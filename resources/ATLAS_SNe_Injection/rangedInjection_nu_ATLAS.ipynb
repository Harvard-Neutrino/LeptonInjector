{
 "cells": [
  {
   "cell_type": "code",
   "execution_count": 1,
   "id": "9aa1cfdb-c500-4f8f-aeb9-b0cffd79607d",
   "metadata": {},
   "outputs": [],
   "source": [
    "# Import python libraries\n",
    "import numpy as np\n",
    "import matplotlib.pyplot as plt\n",
    "from scipy.stats import poisson\n",
    "from scipy.special import erf\n",
    "import pandas as pd\n",
    "import math\n",
    "#%matplotlib notebook\n",
    "\n",
    "# Import the CCM modules\n",
    "import leptoninjector as LI\n",
    "\n",
    "# Make an instance of random for use \n",
    "random = LI.utilities.LI_random()"
   ]
  },
  {
   "cell_type": "markdown",
   "id": "437c0a35-88a9-438a-a858-ad2c6597f3fc",
   "metadata": {},
   "source": [
    "### Initial parameters"
   ]
  },
  {
   "cell_type": "code",
   "execution_count": 2,
   "id": "12016d50-cc63-431c-8443-2642d4e3447a",
   "metadata": {},
   "outputs": [],
   "source": [
    "events_to_inject = 20000"
   ]
  },
  {
   "cell_type": "markdown",
   "id": "aab17284-92e1-42f0-9cfc-925f759d4f64",
   "metadata": {},
   "source": [
    "### Define geometry"
   ]
  },
  {
   "cell_type": "code",
   "execution_count": 3,
   "id": "3e34c890-bd89-4da6-bdae-6443a0966982",
   "metadata": {},
   "outputs": [],
   "source": [
    "# Make the earth model, add ATLAS detector layout and materials file\n",
    "materials_file = '../earthparams/materials/ATLAS.dat'\n",
    "#earth_model_file = '../earthparams/densities/PREM_ATLAS.dat'\n",
    "earth_model_file = '../earthparams/densities/PREM_ATLAS-earthcenter.dat'\n",
    "\n",
    "earth_model = LI.detector.EarthModel()\n",
    "earth_model.LoadMaterialModel(materials_file)\n",
    "earth_model.LoadEarthModel(earth_model_file)"
   ]
  },
  {
   "cell_type": "markdown",
   "id": "71171b04-e1dc-43d7-8887-bfd1ff8fe8e5",
   "metadata": {},
   "source": [
    "### Define injection processes"
   ]
  },
  {
   "cell_type": "code",
   "execution_count": 4,
   "id": "bbdb1f70-e319-4da4-8d2a-8b690b625d93",
   "metadata": {},
   "outputs": [],
   "source": [
    "primary_type = LI.dataclasses.Particle.ParticleType.NuMu\n",
    "\n",
    "primary_injection_process = LI.injection.InjectionProcess()\n",
    "primary_injection_process.primary_type = primary_type\n",
    "\n",
    "primary_physical_process = LI.injection.PhysicalProcess()\n",
    "primary_physical_process.primary_type = primary_type"
   ]
  },
  {
   "cell_type": "markdown",
   "id": "5dd26aef-33f0-4546-9ddf-651d06968b93",
   "metadata": {},
   "source": [
    "### Construct Cross Section Classes"
   ]
  },
  {
   "cell_type": "code",
   "execution_count": 5,
   "id": "b67cb1f3-83a8-437e-a1d5-2ce1e7d22f08",
   "metadata": {},
   "outputs": [],
   "source": [
    "xsfiledir = '/n/home01/awen/prometheus/resources/cross_section_splines'\n",
    "target_type = LI.dataclasses.Particle.ParticleType.Nucleon\n",
    "\n",
    "DIS_xs = LI.crosssections.DISFromSpline(xsfiledir+'/dsdxdy_nu_CC_iso.fits',\n",
    "                                        xsfiledir+'/sigma_nu_CC_iso.fits',\n",
    "                                        [primary_type],\n",
    "                                        [target_type])\n",
    "\n",
    "primary_xs = LI.crosssections.CrossSectionCollection(primary_type, [DIS_xs])\n",
    "primary_injection_process.SetCrossSections(primary_xs)\n",
    "primary_physical_process.SetCrossSections(primary_xs)"
   ]
  },
  {
   "cell_type": "markdown",
   "id": "d7896ba0-62e8-4277-8a70-4d3a4454139e",
   "metadata": {},
   "source": [
    "### Construct Energy Distributions"
   ]
  },
  {
   "cell_type": "code",
   "execution_count": 6,
   "id": "7f69ab86-ac54-4490-b28c-2fb6114ca259",
   "metadata": {},
   "outputs": [],
   "source": [
    "# input: file with energy (GeV) vs physical (time-integrated) total number of neutrinos at each energy\n",
    "flux_file = '/n/home01/awen/LeptonInjector/Sandbox/flux_2P_D0_1_s20.txt'\n",
    "edist = LI.distributions.TabulatedFluxDistribution(100, int(1e6), flux_file, False) #bool is whether flux is physical\n",
    "\n",
    "primary_injection_process.AddInjectionDistribution(edist)\n",
    "primary_physical_process.AddPhysicalDistribution(edist)\n",
    "\n",
    "#flux_units = LI.distributions.NormalizationConstant(3.76e-9) # normalize to a total number of events\n",
    "flux_units = LI.distributions.NormalizationConstant(1)\n",
    "primary_physical_process.AddPhysicalDistribution(flux_units)"
   ]
  },
  {
   "cell_type": "code",
   "execution_count": 7,
   "id": "23d4ea47-56be-41b2-b356-d452129e8dab",
   "metadata": {},
   "outputs": [
    {
     "data": {
      "text/plain": [
       "(1e+30, 1e+53)"
      ]
     },
     "execution_count": 7,
     "metadata": {},
     "output_type": "execute_result"
    },
    {
     "data": {
      "image/png": "[encoded data removed]",
      "text/plain": [
       "<Figure size 640x480 with 1 Axes>"
      ]
     },
     "metadata": {},
     "output_type": "display_data"
    }
   ],
   "source": [
    "# plot dN spectrum just to show\n",
    "flux_verify = np.loadtxt(flux_file)\n",
    "plt.plot(flux_verify[:,0], flux_verify[:,1])\n",
    "plt.xscale('log'); plt.xlim(1e-2, 1e6)\n",
    "plt.yscale('log'); plt.ylim(1e30, 1e53)"
   ]
  },
  {
   "cell_type": "markdown",
   "id": "1f63493f-82e0-44a5-9b1d-f9f9a0352c33",
   "metadata": {},
   "source": [
    "### Construct Direction Distributions (position of injection, momentum of particle)"
   ]
  },
  {
   "cell_type": "code",
   "execution_count": 8,
   "id": "77e8caa9-703c-4752-a127-2809a047bc91",
   "metadata": {},
   "outputs": [],
   "source": [
    "#ATLAS_origin = LI.math.Vector3D(0, 0, 6371234) #6371234 #90m below earth surface, ~depth of altas cavern\n",
    "#earth_origin = LI.math.Vector3D(0, 0, 0)\n",
    "#injection_dir = ATLAS_origin - earth_origin\n",
    "\n",
    "# let's just inject upwards for throughgoing events at cos(theta) = -1\n",
    "injection_dir = LI.math.Vector3D(0, 0, 1)\n",
    "injection_dir.normalize()\n",
    "\n",
    "inj_ddist = LI.distributions.FixedDirection(injection_dir)\n",
    "phys_ddist = LI.distributions.FixedDirection(injection_dir)\n",
    "\n",
    "primary_injection_process.AddInjectionDistribution(inj_ddist)\n",
    "primary_physical_process.AddPhysicalDistribution(phys_ddist)"
   ]
  },
  {
   "cell_type": "markdown",
   "id": "52932c55-962b-4504-9df4-deca3baf20f5",
   "metadata": {},
   "source": [
    "### Some other specifications: target at rest, neutrino helicity"
   ]
  },
  {
   "cell_type": "code",
   "execution_count": 9,
   "id": "80126b4e-c027-4002-b0c8-2dd3170ba0ed",
   "metadata": {},
   "outputs": [],
   "source": [
    "target_momentum_distribution = LI.distributions.TargetAtRest()\n",
    "primary_injection_process.AddInjectionDistribution(target_momentum_distribution)\n",
    "primary_physical_process.AddPhysicalDistribution(target_momentum_distribution)\n",
    "\n",
    "helicity_distribution = LI.distributions.PrimaryNeutrinoHelicityDistribution()\n",
    "primary_injection_process.AddInjectionDistribution(helicity_distribution)\n",
    "primary_physical_process.AddPhysicalDistribution(helicity_distribution)"
   ]
  },
  {
   "cell_type": "markdown",
   "id": "15d4f386-0a3c-4635-a4c4-00de989497e8",
   "metadata": {},
   "source": [
    "### Position \n",
    "(Not necessary if using ColumnDepthLeptonInjector). However, define the volume anyways to calculate intersections with the produced muon"
   ]
  },
  {
   "cell_type": "code",
   "execution_count": 10,
   "id": "8f053338-f2d7-409a-8df8-449ab18eea82",
   "metadata": {},
   "outputs": [],
   "source": [
    "primary_pos_dist = None\n",
    "fid_vol = None\n",
    "for sector in earth_model.GetSectors():\n",
    "    if sector.name=='muon_system':\n",
    "        fid_vol = sector.geo\n",
    "        #primary_pos_dist = LI.distributions.CylinderVolumePositionDistribution(fid_vol)\n",
    "\n",
    "#primary_injection_process.AddInjectionDistribution(primary_pos_dist)\n",
    "#primary_physical_process.AddPhysicalDistribution(primary_pos_dist)"
   ]
  },
  {
   "cell_type": "markdown",
   "id": "60314945-0435-43a8-8390-e73096260595",
   "metadata": {},
   "source": [
    "### Building the Injector"
   ]
  },
  {
   "cell_type": "code",
   "execution_count": 11,
   "id": "b34fbcd2-dd50-4c1a-a143-5edb472b7044",
   "metadata": {
    "tags": []
   },
   "outputs": [],
   "source": [
    "lepton_depth_function = LI.distributions.LeptonDepthFunction()\n",
    "\n",
    "ATLAS_ColumnDepthInjector = LI.injection.ColumnDepthLeptonInjector(events_to_inject,\n",
    "                                                                  earth_model,\n",
    "                                                                  primary_injection_process,\n",
    "                                                                  [],\n",
    "                                                                  random, \n",
    "                                                                  lepton_depth_function, \n",
    "                                                                  23, 23) #radius, endcap length\n",
    "\n",
    "# stopping condition for interaction tree generation\n",
    "#\n",
    "# this function should return true if the input datum should terminate\n",
    "# the simulation for the current branch of the interaction\n",
    "#\n",
    "# for this test, stop after any secondary interaction tree datum is created\n",
    "def StoppingCondition(datum):\n",
    "    return True\n",
    "\n",
    "ATLAS_ColumnDepthInjector.SetStoppingCondition(StoppingCondition)"
   ]
  },
  {
   "cell_type": "code",
   "execution_count": 13,
   "id": "ddab3562-6cae-472e-90e5-7c9e290f1695",
   "metadata": {},
   "outputs": [
    {
     "ename": "AttributeError",
     "evalue": "'leptoninjector.injection.ColumnDepthLeptonInjector' object has no attribute 'InjectionBounds'",
     "output_type": "error",
     "traceback": [
      "\u001b[0;31m---------------------------------------------------------------------------\u001b[0m",
      "\u001b[0;31mAttributeError\u001b[0m                            Traceback (most recent call last)",
      "Cell \u001b[0;32mIn[13], line 1\u001b[0m\n\u001b[0;32m----> 1\u001b[0m \u001b[43mATLAS_ColumnDepthInjector\u001b[49m\u001b[38;5;241;43m.\u001b[39;49m\u001b[43mInjectionBounds\u001b[49m\n",
      "\u001b[0;31mAttributeError\u001b[0m: 'leptoninjector.injection.ColumnDepthLeptonInjector' object has no attribute 'InjectionBounds'"
     ]
    }
   ],
   "source": [
    "ATLAS_ColumnDepthInjector.InjectionBounds"
   ]
  },
  {
   "cell_type": "markdown",
   "id": "7f2341fe-057e-45bc-b5fb-46b3aa0577b1",
   "metadata": {},
   "source": [
    "### Building the weighter"
   ]
  },
  {
   "cell_type": "code",
   "execution_count": 12,
   "id": "4400afdb-5bee-411c-a407-3be5acf4fd3b",
   "metadata": {},
   "outputs": [],
   "source": [
    "ATLAS_weighter = LI.injection.LeptonTreeWeighter([ATLAS_ColumnDepthInjector], \n",
    "                                                 earth_model, \n",
    "                                                 primary_physical_process, \n",
    "                                                 []) #empty last argument since no secondary physical process"
   ]
  },
  {
   "cell_type": "markdown",
   "id": "b1419adb-183e-4794-be72-9d339651d533",
   "metadata": {},
   "source": [
    "### Event Loop"
   ]
  },
  {
   "cell_type": "code",
   "execution_count": null,
   "id": "5ac4fa4f-c92b-4fa4-b6cb-dc45cb1a4bf9",
   "metadata": {},
   "outputs": [],
   "source": [
    "vertex_xarray = np.asarray([])\n",
    "vertex_yarray = np.asarray([])\n",
    "vertex_zarray = np.asarray([])\n",
    "lepton_energies = np.asarray([])\n",
    "HadRecoil_energies = np.asarray([])\n",
    "primary_energies = np.asarray([])\n",
    "inter_array = []\n",
    "lepton_px = np.asarray([])\n",
    "lepton_py = np.asarray([])\n",
    "lepton_pz = np.asarray([])\n",
    "\n",
    "weightarray = np.asarray([])\n",
    "totalweightarray = np.asarray([])\n",
    "\n",
    "intersections_only = False\n",
    "\n",
    "for i in range(events_to_inject):\n",
    "    tree = ATLAS_ColumnDepthInjector.GenerateEvent()\n",
    "    weight = ATLAS_weighter.EventWeight(tree)\n",
    "    \n",
    "    totalweightarray = np.append(totalweightarray, weight)\n",
    "    \n",
    "    if not math.isinf(weight):\n",
    "        print(i,end='\\r')\n",
    "        \n",
    "    \n",
    "        for datum in tree.tree:\n",
    "            vtx = LI.math.Vector3D(datum.record.interaction_vertex)\n",
    "            lepton_direction = LI.math.Vector3D(datum.record.secondary_momenta[0][1:])\n",
    "            inter = fid_vol.ComputeIntersections(vtx, lepton_direction)\n",
    "            if len(inter) != 0 and intersections_only==True: \n",
    "                print('found intersection!')\n",
    "                inter_array.append(inter)\n",
    "                \n",
    "                vertex_xarray = np.append(vertex_xarray, LI.math.Vector3D(datum.record.interaction_vertex).GetX())\n",
    "                vertex_yarray = np.append(vertex_yarray, LI.math.Vector3D(datum.record.interaction_vertex).GetY())\n",
    "                vertex_zarray = np.append(vertex_zarray, LI.math.Vector3D(datum.record.interaction_vertex).GetZ())\n",
    "\n",
    "                lepton_energies = np.append(lepton_energies, datum.record.secondary_momenta[0][0])\n",
    "                lepton_px = np.append(lepton_px, datum.record.secondary_momenta[0][1])\n",
    "                lepton_py = np.append(lepton_py, datum.record.secondary_momenta[0][2])\n",
    "                lepton_pz = np.append(lepton_pz, datum.record.secondary_momenta[0][3])\n",
    "                HadRecoil_energies = np.append(HadRecoil_energies, datum.record.secondary_momenta[1][0])\n",
    "                primary_energies = np.append(primary_energies, datum.record.primary_momentum[0])\n",
    "              \n",
    "                weightarray = np.append(weightarray, weight)\n",
    "            else:\n",
    "                vertex_xarray = np.append(vertex_xarray, LI.math.Vector3D(datum.record.interaction_vertex).GetX())\n",
    "                vertex_yarray = np.append(vertex_yarray, LI.math.Vector3D(datum.record.interaction_vertex).GetY())\n",
    "                vertex_zarray = np.append(vertex_zarray, LI.math.Vector3D(datum.record.interaction_vertex).GetZ())\n",
    "\n",
    "                lepton_energies = np.append(lepton_energies, datum.record.secondary_momenta[0][0])\n",
    "                lepton_px = np.append(lepton_px, datum.record.secondary_momenta[0][1])\n",
    "                lepton_py = np.append(lepton_py, datum.record.secondary_momenta[0][2])\n",
    "                lepton_pz = np.append(lepton_pz, datum.record.secondary_momenta[0][3])\n",
    "                HadRecoil_energies = np.append(HadRecoil_energies, datum.record.secondary_momenta[1][0])\n",
    "                primary_energies = np.append(primary_energies, datum.record.primary_momentum[0])\n",
    "\n",
    "                weightarray = np.append(weightarray, weight)"
   ]
  },
  {
   "cell_type": "code",
   "execution_count": null,
   "id": "f7a7d76f-2e52-487a-9b4c-a0908a59aad0",
   "metadata": {},
   "outputs": [],
   "source": [
    "dataset = pd.DataFrame({'Enu': primary_energies,\\\n",
    "                        'Ex': HadRecoil_energies,\\\n",
    "                        'El': lepton_energies,\\\n",
    "                        'Plx': lepton_px,\\\n",
    "                        'Ply': lepton_py,\\\n",
    "                        'Plz': lepton_pz,\\\n",
    "                        'vtx_x': vertex_xarray,\\\n",
    "                        'vtx_y': vertex_yarray,\\\n",
    "                        'vtx_z': vertex_zarray,\\\n",
    "                        'w': weightarray})"
   ]
  },
  {
   "cell_type": "code",
   "execution_count": null,
   "id": "8ae961cc-4f59-4b42-9aaf-7fbf09ff72d8",
   "metadata": {},
   "outputs": [],
   "source": [
    "#dataset.to_csv('LI_NuMu_yColumnDepthInjection.txt', sep=' ', header=True, index=False)"
   ]
  },
  {
   "cell_type": "code",
   "execution_count": null,
   "id": "f62af15d-e00d-4b23-9b0f-45b406b7b206",
   "metadata": {},
   "outputs": [],
   "source": [
    "plt.scatter(primary_energies,vertex_yarray)\n",
    "plt.xscale('log')\n",
    "#plt.yscale('log')"
   ]
  },
  {
   "cell_type": "markdown",
   "id": "06a58ec9-4108-4465-bb43-7d978dc392d3",
   "metadata": {},
   "source": [
    "### Plot of positions of vertices"
   ]
  },
  {
   "cell_type": "code",
   "execution_count": null,
   "id": "6b4983b1-f54e-46cc-a9d3-23d79bc88bfd",
   "metadata": {},
   "outputs": [],
   "source": [
    "fig, (ax1, ax2, ax3) = plt.subplots(1, 3, figsize=(10, 3), dpi=200)\n",
    "counts, bins = np.histogram(vertex_xarray, weights=weightarray, bins=60)\n",
    "ax1.stairs(counts, bins, label='lepton')\n",
    "ax1.set_xlabel('x (m)')\n",
    "\n",
    "counts, bins = np.histogram(vertex_yarray, weights=weightarray, bins=60)\n",
    "ax2.stairs(counts, bins, label='lepton')\n",
    "ax2.set_xlabel('y (m)')\n",
    "\n",
    "counts, bins = np.histogram(vertex_zarray, weights=weightarray, bins=60)\n",
    "ax3.stairs(counts, bins, label='lepton')\n",
    "ax3.set_xlabel('z (m)')\n",
    "\n",
    "fig = plt.figure(figsize=(12, 12))\n",
    "ax = fig.add_subplot(projection='3d')\n",
    "\n",
    "ax.scatter(vertex_xarray, vertex_yarray, vertex_zarray)"
   ]
  },
  {
   "cell_type": "markdown",
   "id": "844551e7-34ea-455c-b88f-fb2789208416",
   "metadata": {},
   "source": [
    "### Plotting where the lepton intersects the detector volume"
   ]
  },
  {
   "cell_type": "code",
   "execution_count": null,
   "id": "7cf54f86-7e19-4f48-86c2-86b286c19224",
   "metadata": {},
   "outputs": [],
   "source": [
    "X_inter_array = []\n",
    "Y_inter_array = []\n",
    "Z_inter_array = []\n",
    "\n",
    "for i in inter_array: \n",
    "    for j in i: \n",
    "        X_inter_array.append(j.position.GetX())\n",
    "        Y_inter_array.append(j.position.GetY())\n",
    "        Z_inter_array.append(j.position.GetZ())\n",
    "\n",
    "plt.figure()\n",
    "plt.scatter(X_inter_array[::2], Y_inter_array[::2])\n",
    "plt.scatter(X_inter_array[1:][::2], Y_inter_array[1:][::2], marker='.')\n",
    "plt.xlim(-12,12)\n",
    "plt.ylim(-12,12)"
   ]
  },
  {
   "cell_type": "markdown",
   "id": "4ae77cf0-4533-48b8-8cbc-0308c02d4a63",
   "metadata": {
    "tags": []
   },
   "source": [
    "### Plotting the Energy Spectrum at the primary vertex"
   ]
  },
  {
   "cell_type": "code",
   "execution_count": null,
   "id": "e6127f46-1a9e-4aec-92e5-1827f0cde98e",
   "metadata": {
    "tags": []
   },
   "outputs": [],
   "source": [
    "fig = plt.figure(figsize=(5, 4), dpi=200)\n",
    "\n",
    "counts, bins = np.histogram(lepton_energies, weights=weightarray, bins=np.logspace(np.log10(1e1),np.log10(1e6), 60))\n",
    "counts2, bins2 = np.histogram(HadRecoil_energies, weights=weightarray, bins=np.logspace(np.log10(1e1),np.log10(1e6), 60))\n",
    "counts3, bins3 = np.histogram(primary_energies, weights=weightarray, bins=np.logspace(np.log10(1e1),np.log10(1e6), 60))\n",
    "#counts, bins = np.histogram(zarray, bins=100)\n",
    "plt.stairs(counts, bins, label='lepton')\n",
    "plt.stairs(counts2, bins2, label='recoil')\n",
    "plt.stairs(counts3, bins3, label='primary nu')\n",
    "plt.yscale('log')\n",
    "plt.xscale('log')\n",
    "plt.xlim(1e1, 2e6)\n",
    "plt.legend()\n",
    "plt.xlabel('Energy (GeV)')"
   ]
  },
  {
   "cell_type": "markdown",
   "id": "1a97ad8d-bb62-47a4-91ae-aadc8296f6c2",
   "metadata": {},
   "source": [
    "### Distribution of weights"
   ]
  },
  {
   "cell_type": "code",
   "execution_count": null,
   "id": "fe28fc3b-7f60-42ff-a92c-f2da733284de",
   "metadata": {},
   "outputs": [],
   "source": [
    "counts, bins = np.histogram(weightarray, bins=60)\n",
    "plt.stairs(counts, bins)\n",
    "#plt.yscale('log')"
   ]
  },
  {
   "cell_type": "markdown",
   "id": "b1609ef5-d21e-4055-ae49-661b96e9a6a8",
   "metadata": {},
   "source": [
    "### Some playing around for Finding intersections"
   ]
  },
  {
   "cell_type": "code",
   "execution_count": null,
   "id": "b36c1347-fffe-41d5-9515-9a69505ab14c",
   "metadata": {
    "tags": []
   },
   "outputs": [],
   "source": [
    "tree = ATLAS_ColumnDepthInjector.GenerateEvent()\n",
    "datum = None\n",
    "\n",
    "for datum in tree.tree: # loop over interactions in the tree\n",
    "    if(datum.record.signature.primary_type == LI.dataclasses.Particle.ParticleType.NuTau):\n",
    "        print(LI.math.Vector3D(datum.record.interaction_vertex).GetX())\n",
    "        print(LI.math.Vector3D(datum.record.interaction_vertex).GetY())\n",
    "        print(LI.math.Vector3D(datum.record.interaction_vertex).GetZ())\n",
    "\n",
    "weight = ATLAS_weighter.EventWeight(tree)\n",
    "#print(weight)\n",
    "\n",
    "vtx = LI.math.Vector3D(datum.record.interaction_vertex)\n",
    "lepton_direction = LI.math.Vector3D(datum.record.secondary_momenta[0][1:])\n",
    "\n",
    "inter = fid_vol.ComputeIntersections(vtx, lepton_direction)\n",
    "\n",
    "inter[0].position.GetZ()"
   ]
  },
  {
   "cell_type": "code",
   "execution_count": null,
   "id": "f181befe-9ff5-43bb-b9de-0b68bd8b2c0f",
   "metadata": {},
   "outputs": [],
   "source": []
  }
 ],
 "metadata": {
  "@webio": {
   "lastCommId": null,
   "lastKernelId": null
  },
  "kernelspec": {
   "display_name": "Python [conda env:miniconda3-LI_env]",
   "language": "python",
   "name": "conda-env-miniconda3-LI_env-py"
  },
  "language_info": {
   "codemirror_mode": {
    "name": "ipython",
    "version": 3
   },
   "file_extension": ".py",
   "mimetype": "text/x-python",
   "name": "python",
   "nbconvert_exporter": "python",
   "pygments_lexer": "ipython3",
   "version": "3.10.9"
  }
 },
 "nbformat": 4,
 "nbformat_minor": 5
}
