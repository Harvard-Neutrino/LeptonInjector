{
 "cells": [
  {
   "cell_type": "code",
   "execution_count": 1,
   "id": "9aa1cfdb-c500-4f8f-aeb9-b0cffd79607d",
   "metadata": {},
   "outputs": [],
   "source": [
    "# Import python libraries\n",
    "import numpy as np\n",
    "import matplotlib.pyplot as plt\n",
    "from scipy.stats import poisson\n",
    "from scipy.special import erf\n",
    "import pandas as pd\n",
    "\n",
    "# Import the CCM modules|\n",
    "import leptoninjector as LI\n",
    "\n",
    "# Make an instance of random for use \n",
    "random = LI.utilities.LI_random()"
   ]
  },
  {
   "cell_type": "markdown",
   "id": "aab17284-92e1-42f0-9cfc-925f759d4f64",
   "metadata": {},
   "source": [
    "### Define geometry"
   ]
  },
  {
   "cell_type": "code",
   "execution_count": 2,
   "id": "3e34c890-bd89-4da6-bdae-6443a0966982",
   "metadata": {},
   "outputs": [],
   "source": [
    "# Make the earth model, add ATLAS detector layout and materials file\n",
    "\n",
    "materials_file = '../earthparams/materials/ATLAS.dat'\n",
    "#earth_model_file = '../earthparams/densities/PREM_ATLAS.dat'\n",
    "earth_model_file = '../earthparams/densities/PREM_ATLAS-earthcenter.dat'\n",
    "\n",
    "earth_model = LI.detector.EarthModel()\n",
    "earth_model.LoadMaterialModel(materials_file)\n",
    "earth_model.LoadEarthModel(earth_model_file)"
   ]
  },
  {
   "cell_type": "markdown",
   "id": "71171b04-e1dc-43d7-8887-bfd1ff8fe8e5",
   "metadata": {},
   "source": [
    "### Define injection processes"
   ]
  },
  {
   "cell_type": "code",
   "execution_count": 3,
   "id": "bbdb1f70-e319-4da4-8d2a-8b690b625d93",
   "metadata": {},
   "outputs": [],
   "source": [
    "primary_type = LI.dataclasses.Particle.ParticleType.NuMu\n",
    "\n",
    "primary_injection_process = LI.injection.InjectionProcess()\n",
    "primary_injection_process.primary_type = primary_type\n",
    "\n",
    "primary_physical_process = LI.injection.PhysicalProcess()\n",
    "primary_physical_process.primary_type = primary_type"
   ]
  },
  {
   "cell_type": "markdown",
   "id": "5dd26aef-33f0-4546-9ddf-651d06968b93",
   "metadata": {},
   "source": [
    "### Construct Cross Section Classes"
   ]
  },
  {
   "cell_type": "code",
   "execution_count": 4,
   "id": "b67cb1f3-83a8-437e-a1d5-2ce1e7d22f08",
   "metadata": {},
   "outputs": [],
   "source": [
    "# DISFromSpline(std::string differential_filename, \n",
    "#               std::string total_filename, \n",
    "#               std::vector<LI::dataclasses::Particle::ParticleType> primary_types, \n",
    "#               std::vector<LI::dataclasses::Particle::ParticleType> target_types);\n",
    "\n",
    "xsfiledir = '/n/home01/awen/prometheus/resources/cross_section_splines'\n",
    "target_type = LI.dataclasses.Particle.ParticleType.Nucleon\n",
    "\n",
    "DIS_xs = LI.crosssections.DISFromSpline(xsfiledir+'/dsdxdy_nu_CC_iso.fits',\n",
    "                                        xsfiledir+'/sigma_nu_CC_iso.fits',\n",
    "                                        [primary_type],\n",
    "                                        [target_type])\n",
    "\n",
    "primary_xs = LI.crosssections.CrossSectionCollection(primary_type, [DIS_xs])\n",
    "primary_injection_process.SetCrossSections(primary_xs)\n",
    "primary_physical_process.SetCrossSections(primary_xs)"
   ]
  },
  {
   "cell_type": "markdown",
   "id": "d7896ba0-62e8-4277-8a70-4d3a4454139e",
   "metadata": {},
   "source": [
    "### Construct Energy Distributions"
   ]
  },
  {
   "cell_type": "code",
   "execution_count": 5,
   "id": "7f69ab86-ac54-4490-b28c-2fb6114ca259",
   "metadata": {},
   "outputs": [],
   "source": [
    "#nu_energy = 100 #GeV\n",
    "#edist = LI.distributions.Monoenergetic(nu_energy)\n",
    "edist = LI.distributions.TabulatedFluxDistribution(100, int(1e5), '/n/home01/awen/LeptonInjector/Sandbox/flux_2P_D0_1_s20.txt', False)\n",
    "\n",
    "primary_injection_process.AddInjectionDistribution(edist)\n",
    "primary_physical_process.AddPhysicalDistribution(edist)\n",
    "\n",
    "flux_units = LI.distributions.NormalizationConstant(0.0335) #total number of starting events expected\n",
    "# flux_units = LI.distributions.NormalizationConstant(1)\n",
    "primary_physical_process.AddPhysicalDistribution(flux_units)"
   ]
  },
  {
   "cell_type": "markdown",
   "id": "1f63493f-82e0-44a5-9b1d-f9f9a0352c33",
   "metadata": {
    "tags": []
   },
   "source": [
    "### Construct Direction Distributions (position of injection, momentum of particle)"
   ]
  },
  {
   "cell_type": "code",
   "execution_count": 6,
   "id": "77e8caa9-703c-4752-a127-2809a047bc91",
   "metadata": {},
   "outputs": [],
   "source": [
    "ATLAS_origin = LI.math.Vector3D(0, 0, 6371234) #6371234 #90m below earth surface, ~depth of altas cavern\n",
    "earth_origin = LI.math.Vector3D(0, 0, 0)\n",
    "\n",
    "injection_dir = ATLAS_origin - earth_origin\n",
    "injection_dir.normalize()\n",
    "injection_dir = LI.math.Vector3D(0, 0, 1)\n",
    "\n",
    "inj_ddist = LI.distributions.FixedDirection(injection_dir)\n",
    "phys_ddist = LI.distributions.FixedDirection(injection_dir)\n",
    "\n",
    "primary_injection_process.AddInjectionDistribution(inj_ddist)\n",
    "primary_physical_process.AddPhysicalDistribution(phys_ddist)"
   ]
  },
  {
   "cell_type": "markdown",
   "id": "52932c55-962b-4504-9df4-deca3baf20f5",
   "metadata": {},
   "source": [
    "### Some other trivial specifications: target at rest, neutrinos, positions"
   ]
  },
  {
   "cell_type": "code",
   "execution_count": 7,
   "id": "80126b4e-c027-4002-b0c8-2dd3170ba0ed",
   "metadata": {},
   "outputs": [],
   "source": [
    "target_momentum_distribution = LI.distributions.TargetAtRest()\n",
    "primary_injection_process.AddInjectionDistribution(target_momentum_distribution)\n",
    "primary_physical_process.AddPhysicalDistribution(target_momentum_distribution)\n",
    "\n",
    "helicity_distribution = LI.distributions.PrimaryNeutrinoHelicityDistribution()\n",
    "primary_injection_process.AddInjectionDistribution(helicity_distribution)\n",
    "primary_physical_process.AddPhysicalDistribution(helicity_distribution)"
   ]
  },
  {
   "cell_type": "markdown",
   "id": "15d4f386-0a3c-4635-a4c4-00de989497e8",
   "metadata": {},
   "source": [
    "### Position"
   ]
  },
  {
   "cell_type": "code",
   "execution_count": 8,
   "id": "8f053338-f2d7-409a-8df8-449ab18eea82",
   "metadata": {},
   "outputs": [],
   "source": [
    "primary_pos_dist = None\n",
    "for sector in earth_model.GetSectors():\n",
    "    if sector.name=='tilecal':\n",
    "        fid_vol = sector.geo\n",
    "        primary_pos_dist = LI.distributions.CylinderVolumePositionDistribution(fid_vol)\n",
    "\n",
    "#primary_injection_process.AddInjectionDistribution(primary_pos_dist)\n",
    "primary_physical_process.AddPhysicalDistribution(primary_pos_dist)"
   ]
  },
  {
   "cell_type": "markdown",
   "id": "60314945-0435-43a8-8390-e73096260595",
   "metadata": {},
   "source": [
    "### Building the Injector"
   ]
  },
  {
   "cell_type": "code",
   "execution_count": 10,
   "id": "b34fbcd2-dd50-4c1a-a143-5edb472b7044",
   "metadata": {},
   "outputs": [],
   "source": [
    "# Put it all together! One injector for each W target\n",
    "events_to_inject = 10000\n",
    "\n",
    "#ATLAS_injector = LI.injection.InjectorBase(events_to_inject, earth_model, primary_injection_process, [], random)\n",
    "\n",
    "ATLAS_injector = LI.injection.CylinderVolumeLeptonInjector(events_to_inject, \n",
    "                                                           earth_model, \n",
    "                                                           primary_injection_process, \n",
    "                                                           [], \n",
    "                                                           random,\n",
    "                                                           fid_vol)\n",
    "\n",
    "# stopping condition for interaction tree generation\n",
    "#\n",
    "# this function should return true if the input datum should terminate\n",
    "# the simulation for the current branch of the interaction\n",
    "#\n",
    "# for this test, stop after any secondary interaction tree datum is created\n",
    "def StoppingCondition(datum):\n",
    "    return True\n",
    "\n",
    "ATLAS_injector.SetStoppingCondition(StoppingCondition)"
   ]
  },
  {
   "cell_type": "code",
   "execution_count": 11,
   "id": "7c614304-06db-4631-81f2-22ff751b1105",
   "metadata": {},
   "outputs": [
    {
     "name": "stdout",
     "output_type": "stream",
     "text": [
      "-2.650358453380699\n",
      "-4.9402676283678435\n",
      "0.39930235156827537\n"
     ]
    }
   ],
   "source": [
    "tree = ATLAS_injector.GenerateEvent()\n",
    "\n",
    "for datum in tree.tree: # loop over interactions in the tree\n",
    "    print(LI.math.Vector3D(datum.record.interaction_vertex).GetX())\n",
    "    print(LI.math.Vector3D(datum.record.interaction_vertex).GetY())\n",
    "    print(LI.math.Vector3D(datum.record.interaction_vertex).GetZ())\n",
    "    #if(datum.record.signature.primary_type == LI.dataclasses.Particle.ParticleType.NuMu):"
   ]
  },
  {
   "cell_type": "markdown",
   "id": "7f2341fe-057e-45bc-b5fb-46b3aa0577b1",
   "metadata": {},
   "source": [
    "### Building the weighter"
   ]
  },
  {
   "cell_type": "code",
   "execution_count": 12,
   "id": "4400afdb-5bee-411c-a407-3be5acf4fd3b",
   "metadata": {},
   "outputs": [],
   "source": [
    "ATLAS_weighter = LI.injection.LeptonTreeWeighter([ATLAS_injector], \n",
    "                                                 earth_model, \n",
    "                                                 primary_physical_process, \n",
    "                                                 []) #empty last argument since no secondary physical process"
   ]
  },
  {
   "cell_type": "code",
   "execution_count": null,
   "id": "d54db87d-a62c-4905-8382-4e8f5ea692a0",
   "metadata": {},
   "outputs": [],
   "source": [
    "tree = ATLAS_injector.GenerateEvent()\n",
    "\n",
    "weight = ATLAS_weighter.EventWeight(tree)\n",
    "print(weight)"
   ]
  },
  {
   "cell_type": "markdown",
   "id": "6a624dde-827d-40c7-b0e9-74cb507ffc77",
   "metadata": {},
   "source": [
    "### Simple Plots"
   ]
  },
  {
   "cell_type": "code",
   "execution_count": 12,
   "id": "e3ab4f2b-9a9c-4585-befb-6f67330aad41",
   "metadata": {},
   "outputs": [],
   "source": [
    "vertex_xarray = np.asarray([])\n",
    "vertex_yarray = np.asarray([])\n",
    "vertex_zarray = np.asarray([])\n",
    "lepton_energies = np.asarray([])\n",
    "HadRecoil_energies = np.asarray([])\n",
    "primary_energies = np.asarray([])\n",
    "\n",
    "weightarray = np.asarray([])\n",
    "\n",
    "for i in range(50000):\n",
    "    tree = ATLAS_injector.GenerateEvent()\n",
    "    #weight = ATLAS_weighter.EventWeight(tree)\n",
    "    # if not math.isinf(weight):\n",
    "    #     weightarray = np.append(weightarray, weight)\n",
    "    \n",
    "    for datum in tree.tree:\n",
    "        vertex_xarray = np.append(vertex_xarray, LI.math.Vector3D(datum.record.interaction_vertex).GetX())\n",
    "        vertex_yarray = np.append(vertex_yarray, LI.math.Vector3D(datum.record.interaction_vertex).GetY())\n",
    "        vertex_zarray = np.append(vertex_zarray, LI.math.Vector3D(datum.record.interaction_vertex).GetZ())\n",
    "\n",
    "        lepton_energies = np.append(lepton_energies, datum.record.secondary_momenta[0][0])\n",
    "        HadRecoil_energies = np.append(HadRecoil_energies, datum.record.secondary_momenta[1][0])\n",
    "        primary_energies = np.append(primary_energies, datum.record.primary_momentum[0])\n",
    "    "
   ]
  },
  {
   "cell_type": "code",
   "execution_count": 12,
   "id": "89b8f6e5-d9d0-4ab6-82fb-117ff4899922",
   "metadata": {},
   "outputs": [
    {
     "data": {
      "text/plain": [
       "<matplotlib.legend.Legend at 0x2b315225ea10>"
      ]
     },
     "execution_count": 12,
     "metadata": {},
     "output_type": "execute_result"
    },
    {
     "data": {
      "image/png": "[encoded data removed]",
      "text/plain": [
       "<Figure size 640x480 with 1 Axes>"
      ]
     },
     "metadata": {},
     "output_type": "display_data"
    }
   ],
   "source": [
    "counts, bins = np.histogram(lepton_energies, bins=np.logspace(np.log10(1e0),np.log10(1e6), 60))\n",
    "counts2, bins2 = np.histogram(HadRecoil_energies, bins=np.logspace(np.log10(1e0),np.log10(1e6), 60))\n",
    "counts3, bins3 = np.histogram(primary_energies, bins=np.logspace(np.log10(1e0),np.log10(1e6), 60))\n",
    "#counts, bins = np.histogram(zarray, bins=100)\n",
    "plt.stairs(counts, bins, label='lepton')\n",
    "plt.stairs(counts2, bins2, label='recoil')\n",
    "plt.stairs(counts3, bins3, label='primary nu')\n",
    "plt.yscale('log')\n",
    "plt.xscale('log')\n",
    "plt.xlim(1e1, 2e5)\n",
    "plt.legend()"
   ]
  },
  {
   "cell_type": "code",
   "execution_count": null,
   "id": "49816482-7480-475d-a41d-5912818a1b8c",
   "metadata": {},
   "outputs": [],
   "source": [
    "fig = plt.figure(figsize=(12, 12))\n",
    "ax = fig.add_subplot(projection='3d')\n",
    "\n",
    "ax.scatter(vertex_xarray, vertex_yarray, vertex_zarray)"
   ]
  },
  {
   "cell_type": "code",
   "execution_count": 13,
   "id": "5fa7b818-7226-4e51-a88c-62b0e19bd1ca",
   "metadata": {},
   "outputs": [
    {
     "data": {
      "text/plain": [
       "<matplotlib.collections.PathCollection at 0x2b6b2d644370>"
      ]
     },
     "execution_count": 13,
     "metadata": {},
     "output_type": "execute_result"
    },
    {
     "data": {
      "image/png": "[encoded data removed]",
      "text/plain": [
       "<Figure size 640x480 with 1 Axes>"
      ]
     },
     "metadata": {},
     "output_type": "display_data"
    }
   ],
   "source": [
    "plt.scatter(vertex_zarray, vertex_xarray)"
   ]
  },
  {
   "cell_type": "markdown",
   "id": "d1fee153-e3f2-4dde-906a-3d8117c9c4c2",
   "metadata": {},
   "source": [
    "### Loops to process events"
   ]
  },
  {
   "cell_type": "code",
   "execution_count": 19,
   "id": "e5fb8d03-a786-4260-aaea-db20938a0ece",
   "metadata": {
    "tags": []
   },
   "outputs": [
    {
     "name": "stdout",
     "output_type": "stream",
     "text": [
      "99999\r"
     ]
    }
   ],
   "source": [
    "# c = 2.998e-1 #m/ns\n",
    "\n",
    "# gamma_energy_list = []\n",
    "# gamma_weight_list = []\n",
    "# gamma_time_list = []\n",
    "\n",
    "# # generate evenents in lower target\n",
    "# while lower_injector.InjectedEvents() < events_to_inject:\n",
    "#     print(lower_injector.InjectedEvents(),end='\\r')\n",
    "#     tree = lower_injector.GenerateEvent() # generate the interaction tree\n",
    "#     weight = lower_weighter.EventWeight(tree) # calculate the event weight for this tree\n",
    "#     time = 0\n",
    "#     for datum in tree.tree: # loop over interactions in the tree\n",
    "#         if(datum.record.signature.primary_type == LI.dataclasses.Particle.ParticleType.NuMu):\n",
    "#             # calculate travel time of speed of light neutrino\n",
    "#             dist = LI.math.Vector3D(datum.record.interaction_vertex) - lower_target_origin\n",
    "#             time += dist.magnitude()/c\n",
    "#         if(datum.record.signature.primary_type == LI.dataclasses.Particle.ParticleType.NuF4):\n",
    "#             # calculate travel time of non-ultra-relativistic HNL\n",
    "#             dist = LI.math.Vector3D(datum.record.interaction_vertex) - LI.math.Vector3D(datum.parent.record.interaction_vertex)\n",
    "#             gamma = datum.record.primary_momentum[0]/datum.record.primary_mass\n",
    "#             beta = np.sqrt(1 - (1/gamma)**2)\n",
    "#             time += dist.magnitude()/(beta*c)\n",
    "\n",
    "#             # figure out if we're in the fiducial volume\n",
    "#             HNL_vtx = LI.math.Vector3D(datum.record.interaction_vertex)\n",
    "#             HNL_dir = LI.math.Vector3D(datum.record.primary_momentum[1:])\n",
    "#             HNL_dir.normalize()\n",
    "#             if(fid_vol.IsInside(HNL_vtx,HNL_dir)):\n",
    "\n",
    "#                 # Save the energy of the gamma\n",
    "#                 for sID,sP in zip(datum.record.signature.secondary_types,\n",
    "#                                   datum.record.secondary_momenta):\n",
    "#                     if(sID==LI.dataclasses.Particle.ParticleType.Gamma):\n",
    "#                         gamma_energy_list.append(sP[0]*1e3)\n",
    "#                         gamma_weight_list.append(weight)\n",
    "\n",
    "#     # if this is a fiducial event, save the travel time\n",
    "#     if(fid_vol.IsInside(HNL_vtx,HNL_dir)):\n",
    "#         gamma_time_list.append(time - 23./c)"
   ]
  },
  {
   "cell_type": "markdown",
   "id": "9bb86174-6d3e-4b53-8f3d-0ea4041c861e",
   "metadata": {},
   "source": [
    "### Post-processing and plotting"
   ]
  },
  {
   "cell_type": "code",
   "execution_count": null,
   "id": "9c467782-953f-4262-afbf-0a5dc87624c2",
   "metadata": {
    "tags": []
   },
   "outputs": [],
   "source": [
    "# # Class for energy smearing: assumes 15% uncertainty on energy reconstruction\n",
    "# class EnergySmearingGaus:\n",
    "  \n",
    "#     def __init__(self,gamma_energies,\n",
    "#                     gamma_weights,\n",
    "#                     res=0.15):\n",
    "#         self.gamma_energies = gamma_energies\n",
    "#         self.gamma_weights = gamma_weights\n",
    "#         self.res = res\n",
    "\n",
    "#     def Gaus(self,x,mu,std_dev):\n",
    "#         return 1./np.sqrt(2*np.pi*std_dev**2)*np.exp(-(x-mu)**2/(2*std_dev**2))\n",
    "\n",
    "#     def smeared_rate(self,E):\n",
    "#         ret = 0\n",
    "#         for e,w in zip(self.gamma_energies,self.gamma_weights):\n",
    "#               ret += w*self.Gaus(E,e,self.res*e)\n",
    "#         return(ret)\n",
    "\n",
    "#     def smeared_rate_in_bin(self,Elow,Ehigh):\n",
    "#         ret = 0\n",
    "#         for e,w in zip(self.gamma_energies,self.gamma_weights):\n",
    "#             ret += w/2. * (erf((Ehigh - e)/ (np.sqrt(2)*self.res*e)) - erf((Elow - e) / (np.sqrt(2)*self.res*e)))\n",
    "#         return(ret)\n",
    "\n",
    "# smear_gaus = EnergySmearingGaus(gamma_energy_list,gamma_weight_list)\n",
    "\n",
    "\n",
    "# data = pd.read_csv(WorkshopToolsDir+'CCM120_Data/finalHists_all_beamShift.txt')\n",
    "# print(data.keys())\n",
    "\n",
    "\n",
    "# # Calculate binning in PE, convert to MeV\n",
    "# blow = data['binLowEdge']\n",
    "# bhigh = list(blow[1:]) + [5e3]\n",
    "# data['BinLow(PE)'] = blow\n",
    "# data['BinHigh(PE)'] = bhigh\n",
    "# data['Bin(PE)'] = (blow+bhigh)/2.\n",
    "# data['BinWidth(PE)'] = bhigh - blow\n",
    "# data['BinLow(MeV)'] = data['BinLow(PE)']*pe_to_MeV\n",
    "# data['BinHigh(MeV)'] = data['BinHigh(PE)']*pe_to_MeV\n",
    "# data['Bin(MeV)'] = data['Bin(PE)']*pe_to_MeV\n",
    "# data['bc'] = data['Bin(MeV)']\n",
    "# data['BinWidth(MeV)'] = data['BinWidth(PE)']*pe_to_MeV\n",
    "\n",
    "# # find the HNL decay to gamma rate in each bin\n",
    "# gamma_rate = np.array([smear_gaus.smeared_rate_in_bin(elow,ehigh) for (elow,ehigh) in zip(data['BinLow(MeV)'],data['BinHigh(MeV)'])])\n",
    "\n",
    "\n",
    "# plt.errorbar(data['Bin(MeV)'],data['DataValue']/data['BinWidth(MeV)'],\n",
    "#              xerr=data['BinWidth(MeV)']/2,yerr=data['DataError']/data['BinWidth(MeV)'],\n",
    "#              fmt='.',color='black',capsize=2,label='Data')\n",
    "# plt.fill_between(data['BinLow(MeV)'],data['BackgroundPrediction']/data['BinWidth(MeV)'],\n",
    "#                  color='red',alpha=0.5,step='post',label='Background')\n",
    "# plt.fill_between(data['BinLow(MeV)'],\n",
    "#                  y1=data['BackgroundPrediction']/data['BinWidth(MeV)'],\n",
    "#                  y2=data['BackgroundPrediction']/data['BinWidth(MeV)'] + gamma_rate/data['BinWidth(MeV)']*CCM120_POT,\n",
    "#                  color='blue',alpha=0.5,step='post',label=r'$m_{\\mathcal{N}}$ = %2.2f MeV; d = %2.2e GeV$^{-1}$'%(hnl_mass*1e3,d_dipole))\n",
    "# plt.xlabel('Energy [MeV]')\n",
    "# plt.ylabel('Events / MeV')\n",
    "# plt.xlim(1,1e2)\n",
    "# plt.legend(title='CCM120 %2.2e POT'%CCM120_POT)\n",
    "# plt.loglog()\n",
    "# plt.show()\n",
    "\n",
    "# plt.errorbar(data['Bin(MeV)'],data['Subtraction'],\n",
    "#              xerr=data['BinWidth(MeV)']/2,yerr=data['SubtractionError'],\n",
    "#              fmt='.',color='black',capsize=2,label='Data')\n",
    "# plt.fill_between(data['BinLow(MeV)'],\n",
    "#                  gamma_rate*CCM120_POT,\n",
    "#                  color='blue',alpha=0.5,step='post',label=r'$m_{\\mathcal{N}}$ = %2.2f MeV; d = %2.2e GeV$^{-1}$'%(hnl_mass*1e3,d_dipole))\n",
    "# plt.xlabel('Energy [MeV]')\n",
    "# plt.ylabel('Background-Subtrcacted Events')\n",
    "# plt.xlim(1,1e2)\n",
    "# plt.legend(title='CCM120 %2.2e POT'%CCM120_POT)\n",
    "# plt.semilogx()\n",
    "# plt.show()\n",
    "\n",
    "# # adjustment to CCM200\n",
    "# adj = CCM200_POT/CCM120_POT*bkg_reduction_factor\n",
    "\n",
    "# plt.fill_between(data['BinLow(MeV)'],data['BackgroundPrediction']/data['BinWidth(MeV)']*adj,\n",
    "#                  color='red',alpha=0.5,step='post',label='Background')\n",
    "# plt.fill_between(data['BinLow(MeV)'],\n",
    "#                  y1=data['BackgroundPrediction']/data['BinWidth(MeV)']*adj,\n",
    "#                  y2=data['BackgroundPrediction']/data['BinWidth(MeV)']*adj + gamma_rate/data['BinWidth(MeV)']*CCM200_POT,\n",
    "#                  color='blue',alpha=0.5,step='post',label=r'$m_{\\mathcal{N}}$ = %2.2f MeV; d = %2.2e GeV$^{-1}$'%(hnl_mass*1e3,d_dipole))\n",
    "# plt.xlabel('Energy [MeV]')\n",
    "# plt.ylabel('Events / MeV')\n",
    "# plt.xlim(1,1e2)\n",
    "# plt.legend(title='CCM200 %2.2e POT'%CCM200_POT)\n",
    "# plt.loglog()\n",
    "# plt.show()\n",
    "\n",
    "# plt.fill_between(data['BinLow(MeV)'],\n",
    "#                  y1=-(data['BackgroundPrediction']*adj)**(0.5),\n",
    "#                  y2=(data['BackgroundPrediction']*adj)**(0.5),\n",
    "#                  color='red',alpha=0.5,step='post',label='Background Stat. Unc.')\n",
    "# plt.fill_between(data['BinLow(MeV)'],\n",
    "#                  gamma_rate*CCM200_POT,\n",
    "#                  color='blue',alpha=0.5,step='post',label=r'$m_{\\mathcal{N}}$ = %2.2f MeV; d = %2.2e GeV$^{-1}$'%(hnl_mass*1e3,d_dipole))\n",
    "# plt.xlabel('Energy [MeV]')\n",
    "# plt.ylabel('Background-Subtrcacted Events')\n",
    "# plt.xlim(1,1e2)\n",
    "# plt.legend(title='CCM120 %2.2e POT'%CCM200_POT,loc='lower right')\n",
    "# plt.semilogx()\n",
    "# plt.show()\n",
    "\n",
    "\n",
    "\n",
    "# weights = CCM200_POT*np.array(gamma_weight_list)\n",
    "# plt.hist(gamma_time_list,bins=30,weights=weights,label='%2.2f total events'%(sum(weights)))\n",
    "# plt.xlabel('Gamma Time Delay [ns]')\n",
    "# plt.ylabel('Number of Events in CCM')\n",
    "# plt.title('HNL Mass: %s GeV; Coupling: %2.2e GeV^-1'%(hnl_mass_str,d_dipole))\n",
    "# plt.legend()\n",
    "# plt.tight_layout()\n",
    "# plt.show()\n"
   ]
  },
  {
   "cell_type": "code",
   "execution_count": null,
   "id": "dda3b42f-94b3-4b15-bf3f-b502b55eb801",
   "metadata": {},
   "outputs": [],
   "source": []
  }
 ],
 "metadata": {
  "@webio": {
   "lastCommId": null,
   "lastKernelId": null
  },
  "kernelspec": {
   "display_name": "Python [conda env:miniconda3-LI_env]",
   "language": "python",
   "name": "conda-env-miniconda3-LI_env-py"
  },
  "language_info": {
   "codemirror_mode": {
    "name": "ipython",
    "version": 3
   },
   "file_extension": ".py",
   "mimetype": "text/x-python",
   "name": "python",
   "nbconvert_exporter": "python",
   "pygments_lexer": "ipython3",
   "version": "3.10.9"
  }
 },
 "nbformat": 4,
 "nbformat_minor": 5
}
