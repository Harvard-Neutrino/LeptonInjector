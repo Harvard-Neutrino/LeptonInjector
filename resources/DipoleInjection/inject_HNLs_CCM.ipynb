{
 "cells": [
  {
   "cell_type": "code",
   "execution_count": 1,
   "id": "9aa1cfdb-c500-4f8f-aeb9-b0cffd79607d",
   "metadata": {},
   "outputs": [
    {
     "name": "stderr",
     "output_type": "stream",
     "text": [
      "/home/nwkamp/anaconda3/lib/python3.8/site-packages/scipy/__init__.py:138: UserWarning: A NumPy version >=1.16.5 and <1.23.0 is required for this version of SciPy (detected version 1.23.1)\n",
      "  warnings.warn(f\"A NumPy version >={np_minversion} and <{np_maxversion} is required for this version of \"\n"
     ]
    }
   ],
   "source": [
    "# Import python libraries\n",
    "import numpy as np\n",
    "import matplotlib.pyplot as plt\n",
    "from scipy.stats import poisson\n",
    "from scipy.special import erf\n",
    "import pandas as pd\n",
    "\n",
    "# Import the CCM modules\n",
    "import leptoninjector as LI\n",
    "\n",
    "# Make an instance of random for use \n",
    "random = LI.utilities.LI_random()\n",
    "\n",
    "# HNL parameters\n",
    "hnl_mass_str = \"0.02035\" # make sure this matches one of the cross section tables\n",
    "hnl_mass = float(hnl_mass_str) # GeV\n",
    "d_dipole = 5e-7 # GeV^-1\n",
    "\n",
    "# Injection parameters\n",
    "events_to_inject = int(1e5)\n",
    "primary_type = LI.dataclasses.Particle.ParticleType.NuMu\n",
    "\n",
    "# For upscattering cross section\n",
    "z_samp = False\n",
    "inv_GeV = True\n",
    "inelastic = True\n",
    "target_types = [LI.dataclasses.Particle.ParticleType.HNucleus,\n",
    "                LI.dataclasses.Particle.ParticleType.Be9Nucleus,\n",
    "                LI.dataclasses.Particle.ParticleType.C12Nucleus,\n",
    "                LI.dataclasses.Particle.ParticleType.N14Nucleus,\n",
    "                LI.dataclasses.Particle.ParticleType.O16Nucleus,\n",
    "                LI.dataclasses.Particle.ParticleType.Na23Nucleus,\n",
    "                LI.dataclasses.Particle.ParticleType.Al27Nucleus,\n",
    "                LI.dataclasses.Particle.ParticleType.Si28Nucleus,\n",
    "                LI.dataclasses.Particle.ParticleType.Ar40Nucleus,\n",
    "                LI.dataclasses.Particle.ParticleType.Ca40Nucleus,\n",
    "                LI.dataclasses.Particle.ParticleType.Mn55Nucleus,\n",
    "                LI.dataclasses.Particle.ParticleType.Fe56Nucleus,\n",
    "                LI.dataclasses.Particle.ParticleType.Cu63Nucleus,\n",
    "                LI.dataclasses.Particle.ParticleType.Cu65Nucleus,\n",
    "                LI.dataclasses.Particle.ParticleType.W183Nucleus,\n",
    "                LI.dataclasses.Particle.ParticleType.Pb208Nucleus]\n",
    "ZA_combos = [[1,1],\n",
    "             [4,9],\n",
    "             [6,12],\n",
    "             [7,14],\n",
    "             [8,16],\n",
    "             [11,23],\n",
    "             [13,27],\n",
    "             [14,28],\n",
    "             [18,40],\n",
    "             [20,40],\n",
    "             [25,55],\n",
    "             [26,56],\n",
    "             [29,63],\n",
    "             [29,65],\n",
    "             [74,183],\n",
    "             [82,208]]\n",
    "# file locations\n",
    "tot_xsec_path = '../../../../Sandbox/Dipole_xsec_tables/tot_xsec_E0_Ne20'\n",
    "diff_xsec_path = '../../../../Sandbox/Dipole_xsec_tables/diff_xsec_y_Enu_0.055_Ne20'\n",
    "tot_hf_files = ['%s/xsec_Z_%i_A_%i_mHNL_%s_hf.dat'%(tot_xsec_path,\n",
    "                                                    Z,A,\n",
    "                                                    hnl_mass_str) for Z,A in ZA_combos]\n",
    "tot_hc_files = ['%s/xsec_Z_%i_A_%i_mHNL_%s_hc.dat'%(tot_xsec_path,\n",
    "                                                    Z,A,\n",
    "                                                    hnl_mass_str) for Z,A in ZA_combos]\n",
    "diff_hf_files = ['%s/dxsec_Z_%i_A_%i_mHNL_%s_hf.dat'%(diff_xsec_path,\n",
    "                                                      Z,A,\n",
    "                                                      hnl_mass_str) for Z,A in ZA_combos]\n",
    "diff_hc_files = ['%s/dxsec_Z_%i_A_%i_mHNL_%s_hc.dat'%(diff_xsec_path,\n",
    "                                                      Z,A,\n",
    "                                                      hnl_mass_str) for Z,A in ZA_combos]\n",
    "\n",
    "# For comparing data to HNL prediction later on\n",
    "CCM200_POT = 2.25e22\n",
    "CCM120_POT = 1.79e21\n",
    "bkg_reduction_factor = 1e-2 # optimistic, with Chrenkov reconstruction working\n",
    "pe_to_MeV = 0.1\n",
    "WorkshopToolsDir = '../../../../Sandbox/' # Change this if need be"
   ]
  },
  {
   "cell_type": "code",
   "execution_count": 2,
   "id": "3e34c890-bd89-4da6-bdae-6443a0966982",
   "metadata": {},
   "outputs": [],
   "source": [
    "# Make the earth model, add CCM detector layout and materials file\n",
    "\n",
    "materials_file = '../earthparams/materials/CCM.dat'\n",
    "earth_model_file = '../earthparams/densities/PREM_ccm.dat'\n",
    "\n",
    "earth_model = LI.detector.EarthModel()\n",
    "earth_model.LoadMaterialModel(materials_file)\n",
    "earth_model.LoadEarthModel(earth_model_file)"
   ]
  },
  {
   "cell_type": "code",
   "execution_count": 3,
   "id": "30b5d426-b07c-4432-8d85-9b50ad0acf43",
   "metadata": {},
   "outputs": [],
   "source": [
    "# Define injection processes for each target\n",
    "primary_injection_process_upper_target = LI.injection.InjectionProcess()\n",
    "primary_injection_process_lower_target = LI.injection.InjectionProcess()\n",
    "secondary_injection_processes = []\n",
    "primary_injection_process_upper_target.primary_type = primary_type\n",
    "primary_injection_process_lower_target.primary_type = primary_type\n",
    "\n",
    "# Define physical processes for each target\n",
    "primary_physical_process_upper_target = LI.injection.PhysicalProcess()\n",
    "primary_physical_process_lower_target = LI.injection.PhysicalProcess()\n",
    "secondary_physical_processes = []\n",
    "primary_physical_process_upper_target.primary_type = primary_type\n",
    "primary_physical_process_lower_target.primary_type = primary_type\n",
    "\n"
   ]
  },
  {
   "cell_type": "code",
   "execution_count": 4,
   "id": "9ede34ab-17bd-4580-8a6e-5efecbfe9d75",
   "metadata": {},
   "outputs": [],
   "source": [
    "# Define upscattering cross section classes\n",
    "\n",
    "cross_sections = []\n",
    "hf_xs = LI.crosssections.DipoleFromTable(hnl_mass,\n",
    "                                      d_dipole,\n",
    "                                      LI.crosssections.DipoleFromTable.HelicityChannel.Flipping,\n",
    "                                      z_samp,inv_GeV,inelastic)\n",
    "hc_xs = LI.crosssections.DipoleFromTable(hnl_mass,\n",
    "                                      d_dipole,\n",
    "                                      LI.crosssections.DipoleFromTable.HelicityChannel.Conserving,\n",
    "                                      z_samp,inv_GeV,inelastic)\n",
    "for i in range(len(target_types)):\n",
    "    hf_xs.AddTotalCrossSectionFile(tot_hf_files[i],target_types[i])\n",
    "    hf_xs.AddDifferentialCrossSectionFile(diff_hf_files[i],target_types[i])\n",
    "    hc_xs.AddTotalCrossSectionFile(tot_hc_files[i],target_types[i])\n",
    "    hc_xs.AddDifferentialCrossSectionFile(diff_hc_files[i],target_types[i])\n",
    "\n",
    "cross_sections.append(hf_xs)\n",
    "cross_sections.append(hc_xs)\n",
    "primary_cross_sections = LI.crosssections.CrossSectionCollection(primary_type, cross_sections)\n",
    "primary_injection_process_upper_target.SetCrossSections(primary_cross_sections)\n",
    "primary_injection_process_lower_target.SetCrossSections(primary_cross_sections)\n",
    "primary_physical_process_upper_target.SetCrossSections(primary_cross_sections)\n",
    "primary_physical_process_lower_target.SetCrossSections(primary_cross_sections)\n",
    "\n"
   ]
  },
  {
   "cell_type": "code",
   "execution_count": 5,
   "id": "a4edf055-3dbc-4eeb-88a7-37a17d7fb853",
   "metadata": {},
   "outputs": [],
   "source": [
    "# Energy distribution: monoenergetic neutrino from pion decay at rest\n",
    "\n",
    "nu_energy = 0.02965 # from pi+ DAR\n",
    "edist = LI.distributions.Monoenergetic(nu_energy)\n",
    "primary_injection_process_upper_target.AddInjectionDistribution(edist)\n",
    "primary_injection_process_lower_target.AddInjectionDistribution(edist)\n",
    "primary_physical_process_upper_target.AddPhysicalDistribution(edist)\n",
    "primary_physical_process_lower_target.AddPhysicalDistribution(edist)\n",
    "\n",
    "# Flux normalization: \n",
    "# using the number quoted in 2105.14020, 4.74e9 nu/m^2/s / (6.2e14 POT/s) * 4*pi*20m^2 to get nu/POT\n",
    "flux_units = LI.distributions.NormalizationConstant(3.76e-2)\n",
    "primary_physical_process_upper_target.AddPhysicalDistribution(flux_units)\n",
    "primary_physical_process_lower_target.AddPhysicalDistribution(flux_units)\n"
   ]
  },
  {
   "cell_type": "code",
   "execution_count": 6,
   "id": "c643f0c5-03fa-438f-b31d-fdf9af6aa7a3",
   "metadata": {},
   "outputs": [],
   "source": [
    "# Primary direction: A cone around CCM\n",
    "\n",
    "opening_angle = np.arctan(12/23.); # slightly larger than CCM\n",
    "upper_target_origin = LI.math.Vector3D(0, 0, 0.1375)\n",
    "lower_target_origin = LI.math.Vector3D(0, 0, -0.241)\n",
    "detector_origin = LI.math.Vector3D(23, 0, -0.65)\n",
    "upper_dir = detector_origin - upper_target_origin\n",
    "upper_dir.normalize()\n",
    "lower_dir = detector_origin - lower_target_origin\n",
    "lower_dir.normalize()\n",
    "upper_inj_ddist = LI.distributions.Cone(upper_dir,opening_angle)\n",
    "lower_inj_ddist = LI.distributions.Cone(lower_dir,opening_angle)\n",
    "phys_ddist = LI.distributions.IsotropicDirection() # truly we are isotropic\n",
    "primary_injection_process_upper_target.AddInjectionDistribution(upper_inj_ddist)\n",
    "primary_injection_process_lower_target.AddInjectionDistribution(lower_inj_ddist)\n",
    "primary_physical_process_upper_target.AddPhysicalDistribution(phys_ddist)\n",
    "primary_physical_process_lower_target.AddPhysicalDistribution(phys_ddist);\n"
   ]
  },
  {
   "cell_type": "code",
   "execution_count": 7,
   "id": "04d80482-79b3-46fc-842e-6a4d3b26527d",
   "metadata": {},
   "outputs": [],
   "source": [
    "# Target momentum distribution: target is at rest\n",
    "\n",
    "target_momentum_distribution = LI.distributions.TargetAtRest()\n",
    "primary_injection_process_upper_target.AddInjectionDistribution(target_momentum_distribution)\n",
    "primary_injection_process_lower_target.AddInjectionDistribution(target_momentum_distribution)\n",
    "primary_physical_process_upper_target.AddPhysicalDistribution(target_momentum_distribution)\n",
    "primary_physical_process_lower_target.AddPhysicalDistribution(target_momentum_distribution)\n"
   ]
  },
  {
   "cell_type": "code",
   "execution_count": 8,
   "id": "712e2d18-995e-4fc6-97a6-1e8150d9e5db",
   "metadata": {},
   "outputs": [],
   "source": [
    "# Helicity distribution: primary neutrino helicity\n",
    "\n",
    "helicity_distribution = LI.distributions.PrimaryNeutrinoHelicityDistribution()\n",
    "primary_injection_process_upper_target.AddInjectionDistribution(helicity_distribution)\n",
    "primary_injection_process_lower_target.AddInjectionDistribution(helicity_distribution)\n",
    "primary_physical_process_upper_target.AddPhysicalDistribution(helicity_distribution)\n",
    "primary_physical_process_lower_target.AddPhysicalDistribution(helicity_distribution)\n"
   ]
  },
  {
   "cell_type": "code",
   "execution_count": 9,
   "id": "819e86b4-f504-4890-b840-ea67f07580c6",
   "metadata": {},
   "outputs": [],
   "source": [
    "# Position distribution: consider neutrinos from a point source\n",
    "\n",
    "max_dist = 25\n",
    "upper_pos_dist = LI.distributions.PointSourcePositionDistribution(upper_target_origin, max_dist, primary_cross_sections.TargetTypes())\n",
    "lower_pos_dist = LI.distributions.PointSourcePositionDistribution(lower_target_origin, max_dist, primary_cross_sections.TargetTypes())\n",
    "primary_injection_process_upper_target.AddInjectionDistribution(upper_pos_dist)\n",
    "primary_injection_process_lower_target.AddInjectionDistribution(lower_pos_dist)\n"
   ]
  },
  {
   "cell_type": "code",
   "execution_count": 10,
   "id": "ac618d59-9e5e-462a-bf77-7b639761cff1",
   "metadata": {},
   "outputs": [],
   "source": [
    "# Secondary process definition\n",
    "\n",
    "secondary_decay_injection_process = LI.injection.InjectionProcess()\n",
    "secondary_decay_physical_process = LI.injection.PhysicalProcess()\n",
    "secondary_decay_injection_process.primary_type = LI.dataclasses.Particle.ParticleType.NuF4\n",
    "secondary_decay_physical_process.primary_type = LI.dataclasses.Particle.ParticleType.NuF4\n"
   ]
  },
  {
   "cell_type": "code",
   "execution_count": 11,
   "id": "e2b071e9-b559-40c3-9589-ad8a88b1fcc1",
   "metadata": {},
   "outputs": [],
   "source": [
    "# Secondary cross section class: HNL decay\n",
    "\n",
    "sec_decay = LI.crosssections.NeutrissimoDecay(hnl_mass, d_dipole, LI.crosssections.NeutrissimoDecay.ChiralNature.Majorana)\n",
    "secondary_cross_sections = LI.crosssections.CrossSectionCollection(LI.dataclasses.Particle.ParticleType.NuF4, [sec_decay])\n",
    "secondary_decay_injection_process.SetCrossSections(secondary_cross_sections)\n",
    "secondary_decay_physical_process.SetCrossSections(secondary_cross_sections)"
   ]
  },
  {
   "cell_type": "code",
   "execution_count": 12,
   "id": "45bbc030-5458-48e6-8061-b7e100839a69",
   "metadata": {},
   "outputs": [],
   "source": [
    "# Secondary position distribution\n",
    "\n",
    "secondary_pos_dist = LI.distributions.SecondaryPositionDistribution()\n",
    "for sector in earth_model.GetSectors():\n",
    "    if sector.name=='ccm_inner_argon':\n",
    "        fid_vol = sector.geo\n",
    "        secondary_pos_dist = LI.distributions.SecondaryPositionDistribution(sector.geo)\n",
    "\n",
    "secondary_decay_injection_process.AddInjectionDistribution(secondary_pos_dist)\n",
    "\n",
    "secondary_injection_processes.append(secondary_decay_injection_process)\n",
    "secondary_physical_processes.append(secondary_decay_physical_process)\n",
    "\n"
   ]
  },
  {
   "cell_type": "code",
   "execution_count": 13,
   "id": "1af57c0f-e87a-4585-84c4-7829ec6d7e22",
   "metadata": {},
   "outputs": [],
   "source": [
    "# Put it all together! One injector for each W target\n",
    "upper_injector = LI.injection.InjectorBase(events_to_inject, earth_model, \n",
    "                                        primary_injection_process_upper_target, \n",
    "                                        secondary_injection_processes,\n",
    "                                        random)\n",
    "\n",
    "lower_injector = LI.injection.InjectorBase(events_to_inject, earth_model, \n",
    "                                        primary_injection_process_lower_target, \n",
    "                                        secondary_injection_processes,\n",
    "                                        random)\n",
    "\n",
    "# stopping condition for interaction tree generation\n",
    "#\n",
    "# this function should return true if the input datum should terminate\n",
    "# the simulation for the current branch of the interaction\n",
    "#\n",
    "# for this test, stop after any secondary interaction tree datum is created\n",
    "def StoppingCondition(datum):\n",
    "    return True\n",
    "\n",
    "upper_injector.SetStoppingCondition(StoppingCondition)\n",
    "lower_injector.SetStoppingCondition(StoppingCondition)\n"
   ]
  },
  {
   "cell_type": "code",
   "execution_count": 14,
   "id": "ac3b51c4-5fe0-4448-8055-22bef64e8222",
   "metadata": {},
   "outputs": [],
   "source": [
    "# Weighter instances, one for each target\n",
    "\n",
    "upper_weighter = LI.injection.LeptonTreeWeighter([upper_injector],\n",
    "                                              earth_model, \n",
    "                                              primary_physical_process_upper_target, \n",
    "                                              secondary_physical_processes)\n",
    "lower_weighter = LI.injection.LeptonTreeWeighter([lower_injector],\n",
    "                                              earth_model, \n",
    "                                              primary_physical_process_upper_target, \n",
    "                                              secondary_physical_processes)\n",
    "\n"
   ]
  },
  {
   "cell_type": "code",
   "execution_count": 15,
   "id": "e5fb8d03-a786-4260-aaea-db20938a0ece",
   "metadata": {
    "tags": []
   },
   "outputs": [
    {
     "name": "stdout",
     "output_type": "stream",
     "text": [
      "99999\r"
     ]
    }
   ],
   "source": [
    "c = 2.998e-1 #m/ns\n",
    "\n",
    "gamma_energy_list = []\n",
    "gamma_weight_list = []\n",
    "gamma_time_list = []\n",
    "\n",
    "# generate evenents in lower target\n",
    "while lower_injector.InjectedEvents() < events_to_inject:\n",
    "    print(lower_injector.InjectedEvents(),end='\\r')\n",
    "    tree = lower_injector.GenerateEvent() # generate the interaction tree\n",
    "    weight = lower_weighter.EventWeight(tree) # calculate the event weight for this tree\n",
    "    time = 0\n",
    "    for datum in tree.tree: # loop over interactions in the tree\n",
    "        if(datum.record.signature.primary_type == LI.dataclasses.Particle.ParticleType.NuMu):\n",
    "            # calculate travel time of speed of light neutrino\n",
    "            dist = LI.math.Vector3D(datum.record.interaction_vertex) - lower_target_origin\n",
    "            time += dist.magnitude()/c\n",
    "        if(datum.record.signature.primary_type == LI.dataclasses.Particle.ParticleType.NuF4):\n",
    "            # calculate travel time of non-ultra-relativistic HNL\n",
    "            dist = LI.math.Vector3D(datum.record.interaction_vertex) - LI.math.Vector3D(datum.parent.record.interaction_vertex)\n",
    "            gamma = datum.record.primary_momentum[0]/datum.record.primary_mass\n",
    "            beta = np.sqrt(1 - (1/gamma)**2)\n",
    "            time += dist.magnitude()/(beta*c)\n",
    "\n",
    "            # figure out if we're in the fiducial volume\n",
    "            HNL_vtx = LI.math.Vector3D(datum.record.interaction_vertex)\n",
    "            HNL_dir = LI.math.Vector3D(datum.record.primary_momentum[1:])\n",
    "            HNL_dir.normalize()\n",
    "            if(fid_vol.IsInside(HNL_vtx,HNL_dir)):\n",
    "\n",
    "                # Save the energy of the gamma\n",
    "                for sID,sP in zip(datum.record.signature.secondary_types,\n",
    "                                  datum.record.secondary_momenta):\n",
    "                    if(sID==LI.dataclasses.Particle.ParticleType.Gamma):\n",
    "                        gamma_energy_list.append(sP[0]*1e3)\n",
    "                        gamma_weight_list.append(weight)\n",
    "\n",
    "    # if this is a fiducial event, save the travel time\n",
    "    if(fid_vol.IsInside(HNL_vtx,HNL_dir)):\n",
    "        gamma_time_list.append(time - 23./c)"
   ]
  },
  {
   "cell_type": "code",
   "execution_count": 16,
   "id": "9c467782-953f-4262-afbf-0a5dc87624c2",
   "metadata": {
    "tags": []
   },
   "outputs": [
    {
     "name": "stdout",
     "output_type": "stream",
     "text": [
      "Index(['binLowEdge', 'binWidth', 'DataValue', 'DataError',\n",
      "       'BackgroundPrediction', 'BackgroundError', 'Subtraction',\n",
      "       'SubtractionError'],\n",
      "      dtype='object')\n"
     ]
    },
    {
     "data": {
      "image/png": "[encoded data removed]",
      "text/plain": [
       "<Figure size 432x288 with 1 Axes>"
      ]
     },
     "metadata": {
      "needs_background": "light"
     },
     "output_type": "display_data"
    },
    {
     "data": {
      "image/png": "[encoded data removed]",
      "text/plain": [
       "<Figure size 432x288 with 1 Axes>"
      ]
     },
     "metadata": {
      "needs_background": "light"
     },
     "output_type": "display_data"
    },
    {
     "data": {
      "image/png": "[encoded data removed]",
      "text/plain": [
       "<Figure size 432x288 with 1 Axes>"
      ]
     },
     "metadata": {
      "needs_background": "light"
     },
     "output_type": "display_data"
    },
    {
     "data": {
      "image/png": "[encoded data removed]",
      "text/plain": [
       "<Figure size 432x288 with 1 Axes>"
      ]
     },
     "metadata": {
      "needs_background": "light"
     },
     "output_type": "display_data"
    },
    {
     "data": {
      "image/png": "[encoded data removed]",
      "text/plain": [
       "<Figure size 432x288 with 1 Axes>"
      ]
     },
     "metadata": {
      "needs_background": "light"
     },
     "output_type": "display_data"
    }
   ],
   "source": [
    "# Class for energy smearing: assumes 15% uncertainty on energy reconstruction\n",
    "class EnergySmearingGaus:\n",
    "  \n",
    "    def __init__(self,gamma_energies,\n",
    "                    gamma_weights,\n",
    "                    res=0.15):\n",
    "        self.gamma_energies = gamma_energies\n",
    "        self.gamma_weights = gamma_weights\n",
    "        self.res = res\n",
    "\n",
    "    def Gaus(self,x,mu,std_dev):\n",
    "        return 1./np.sqrt(2*np.pi*std_dev**2)*np.exp(-(x-mu)**2/(2*std_dev**2))\n",
    "\n",
    "    def smeared_rate(self,E):\n",
    "        ret = 0\n",
    "        for e,w in zip(self.gamma_energies,self.gamma_weights):\n",
    "              ret += w*self.Gaus(E,e,self.res*e)\n",
    "        return(ret)\n",
    "\n",
    "    def smeared_rate_in_bin(self,Elow,Ehigh):\n",
    "        ret = 0\n",
    "        for e,w in zip(self.gamma_energies,self.gamma_weights):\n",
    "            ret += w/2. * (erf((Ehigh - e)/ (np.sqrt(2)*self.res*e)) - erf((Elow - e) / (np.sqrt(2)*self.res*e)))\n",
    "        return(ret)\n",
    "\n",
    "smear_gaus = EnergySmearingGaus(gamma_energy_list,gamma_weight_list)\n",
    "\n",
    "\n",
    "data = pd.read_csv(WorkshopToolsDir+'CCM120_Data/finalHists_all_beamShift.txt')\n",
    "print(data.keys())\n",
    "\n",
    "\n",
    "# Calculate binning in PE, convert to MeV\n",
    "blow = data['binLowEdge']\n",
    "bhigh = list(blow[1:]) + [5e3]\n",
    "data['BinLow(PE)'] = blow\n",
    "data['BinHigh(PE)'] = bhigh\n",
    "data['Bin(PE)'] = (blow+bhigh)/2.\n",
    "data['BinWidth(PE)'] = bhigh - blow\n",
    "data['BinLow(MeV)'] = data['BinLow(PE)']*pe_to_MeV\n",
    "data['BinHigh(MeV)'] = data['BinHigh(PE)']*pe_to_MeV\n",
    "data['Bin(MeV)'] = data['Bin(PE)']*pe_to_MeV\n",
    "data['bc'] = data['Bin(MeV)']\n",
    "data['BinWidth(MeV)'] = data['BinWidth(PE)']*pe_to_MeV\n",
    "\n",
    "# find the HNL decay to gamma rate in each bin\n",
    "gamma_rate = np.array([smear_gaus.smeared_rate_in_bin(elow,ehigh) for (elow,ehigh) in zip(data['BinLow(MeV)'],data['BinHigh(MeV)'])])\n",
    "\n",
    "\n",
    "plt.errorbar(data['Bin(MeV)'],data['DataValue']/data['BinWidth(MeV)'],\n",
    "             xerr=data['BinWidth(MeV)']/2,yerr=data['DataError']/data['BinWidth(MeV)'],\n",
    "             fmt='.',color='black',capsize=2,label='Data')\n",
    "plt.fill_between(data['BinLow(MeV)'],data['BackgroundPrediction']/data['BinWidth(MeV)'],\n",
    "                 color='red',alpha=0.5,step='post',label='Background')\n",
    "plt.fill_between(data['BinLow(MeV)'],\n",
    "                 y1=data['BackgroundPrediction']/data['BinWidth(MeV)'],\n",
    "                 y2=data['BackgroundPrediction']/data['BinWidth(MeV)'] + gamma_rate/data['BinWidth(MeV)']*CCM120_POT,\n",
    "                 color='blue',alpha=0.5,step='post',label=r'$m_{\\mathcal{N}}$ = %2.2f MeV; d = %2.2e GeV$^{-1}$'%(hnl_mass*1e3,d_dipole))\n",
    "plt.xlabel('Energy [MeV]')\n",
    "plt.ylabel('Events / MeV')\n",
    "plt.xlim(1,1e2)\n",
    "plt.legend(title='CCM120 %2.2e POT'%CCM120_POT)\n",
    "plt.loglog()\n",
    "plt.show()\n",
    "\n",
    "plt.errorbar(data['Bin(MeV)'],data['Subtraction'],\n",
    "             xerr=data['BinWidth(MeV)']/2,yerr=data['SubtractionError'],\n",
    "             fmt='.',color='black',capsize=2,label='Data')\n",
    "plt.fill_between(data['BinLow(MeV)'],\n",
    "                 gamma_rate*CCM120_POT,\n",
    "                 color='blue',alpha=0.5,step='post',label=r'$m_{\\mathcal{N}}$ = %2.2f MeV; d = %2.2e GeV$^{-1}$'%(hnl_mass*1e3,d_dipole))\n",
    "plt.xlabel('Energy [MeV]')\n",
    "plt.ylabel('Background-Subtrcacted Events')\n",
    "plt.xlim(1,1e2)\n",
    "plt.legend(title='CCM120 %2.2e POT'%CCM120_POT)\n",
    "plt.semilogx()\n",
    "plt.show()\n",
    "\n",
    "# adjustment to CCM200\n",
    "adj = CCM200_POT/CCM120_POT*bkg_reduction_factor\n",
    "\n",
    "plt.fill_between(data['BinLow(MeV)'],data['BackgroundPrediction']/data['BinWidth(MeV)']*adj,\n",
    "                 color='red',alpha=0.5,step='post',label='Background')\n",
    "plt.fill_between(data['BinLow(MeV)'],\n",
    "                 y1=data['BackgroundPrediction']/data['BinWidth(MeV)']*adj,\n",
    "                 y2=data['BackgroundPrediction']/data['BinWidth(MeV)']*adj + gamma_rate/data['BinWidth(MeV)']*CCM200_POT,\n",
    "                 color='blue',alpha=0.5,step='post',label=r'$m_{\\mathcal{N}}$ = %2.2f MeV; d = %2.2e GeV$^{-1}$'%(hnl_mass*1e3,d_dipole))\n",
    "plt.xlabel('Energy [MeV]')\n",
    "plt.ylabel('Events / MeV')\n",
    "plt.xlim(1,1e2)\n",
    "plt.legend(title='CCM200 %2.2e POT'%CCM200_POT)\n",
    "plt.loglog()\n",
    "plt.show()\n",
    "\n",
    "plt.fill_between(data['BinLow(MeV)'],\n",
    "                 y1=-(data['BackgroundPrediction']*adj)**(0.5),\n",
    "                 y2=(data['BackgroundPrediction']*adj)**(0.5),\n",
    "                 color='red',alpha=0.5,step='post',label='Background Stat. Unc.')\n",
    "plt.fill_between(data['BinLow(MeV)'],\n",
    "                 gamma_rate*CCM200_POT,\n",
    "                 color='blue',alpha=0.5,step='post',label=r'$m_{\\mathcal{N}}$ = %2.2f MeV; d = %2.2e GeV$^{-1}$'%(hnl_mass*1e3,d_dipole))\n",
    "plt.xlabel('Energy [MeV]')\n",
    "plt.ylabel('Background-Subtrcacted Events')\n",
    "plt.xlim(1,1e2)\n",
    "plt.legend(title='CCM120 %2.2e POT'%CCM200_POT,loc='lower right')\n",
    "plt.semilogx()\n",
    "plt.show()\n",
    "\n",
    "\n",
    "\n",
    "weights = CCM200_POT*np.array(gamma_weight_list)\n",
    "plt.hist(gamma_time_list,bins=30,weights=weights,label='%2.2f total events'%(sum(weights)))\n",
    "plt.xlabel('Gamma Time Delay [ns]')\n",
    "plt.ylabel('Number of Events in CCM')\n",
    "plt.title('HNL Mass: %s GeV; Coupling: %2.2e GeV^-1'%(hnl_mass_str,d_dipole))\n",
    "plt.legend()\n",
    "plt.tight_layout()\n",
    "plt.show()\n"
   ]
  },
  {
   "cell_type": "code",
   "execution_count": null,
   "id": "dda3b42f-94b3-4b15-bf3f-b502b55eb801",
   "metadata": {},
   "outputs": [],
   "source": []
  }
 ],
 "metadata": {
  "@webio": {
   "lastCommId": null,
   "lastKernelId": null
  },
  "kernelspec": {
   "display_name": "Python 3",
   "language": "python",
   "name": "python3"
  },
  "language_info": {
   "codemirror_mode": {
    "name": "ipython",
    "version": 3
   },
   "file_extension": ".py",
   "mimetype": "text/x-python",
   "name": "python",
   "nbconvert_exporter": "python",
   "pygments_lexer": "ipython3",
   "version": "3.8.8"
  }
 },
 "nbformat": 4,
 "nbformat_minor": 5
}
